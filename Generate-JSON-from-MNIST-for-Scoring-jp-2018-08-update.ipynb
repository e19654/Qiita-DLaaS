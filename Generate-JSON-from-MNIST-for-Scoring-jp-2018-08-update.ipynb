{
 "cells": [
  {
   "cell_type": "markdown",
   "metadata": {},
   "source": [
    "## (2018/08更新) WMLのDLモデルのデモ用にMNISTデータをJSONで作成する\n",
    "Pls see https://stackoverflow.com/questions/49526227/deep-learning-how-can-i-test-the-mnist-tutorial-model-on-wml for details"
   ]
  },
  {
   "cell_type": "code",
   "execution_count": 2,
   "metadata": {},
   "outputs": [
    {
     "name": "stderr",
     "output_type": "stream",
     "text": [
      "C:\\ProgramData\\Miniconda3\\lib\\site-packages\\h5py\\__init__.py:36: FutureWarning: Conversion of the second argument of issubdtype from `float` to `np.floating` is deprecated. In future, it will be treated as `np.float64 == np.dtype(float).type`.\n",
      "  from ._conv import register_converters as _register_converters\n",
      "Using TensorFlow backend.\n"
     ]
    }
   ],
   "source": [
    "import json\n",
    "import numpy as np\n",
    "from keras.datasets import mnist\n",
    "(X, y), (X_test, y_test) = mnist.load_data()"
   ]
  },
  {
   "cell_type": "markdown",
   "metadata": {},
   "source": [
    "# MNIST のN番目のデータを指定"
   ]
  },
  {
   "cell_type": "code",
   "execution_count": 3,
   "metadata": {},
   "outputs": [],
   "source": [
    "N = 1  # specify the number"
   ]
  },
  {
   "cell_type": "markdown",
   "metadata": {},
   "source": [
    "# 念のためイメージを表示する"
   ]
  },
  {
   "cell_type": "code",
   "execution_count": 4,
   "metadata": {},
   "outputs": [
    {
     "data": {
      "image/png": "[encoded data removed]",
      "text/plain": [
       "<Figure size 432x288 with 1 Axes>"
      ]
     },
     "metadata": {},
     "output_type": "display_data"
    }
   ],
   "source": [
    "import matplotlib.pyplot as plt\n",
    "%matplotlib inline \n",
    "img = X_test[N]\n",
    "img = np.array(img, dtype='float')\n",
    "pixels = img.reshape((28, 28))\n",
    "plt.imshow(pixels, cmap='gray')\n",
    "plt.show()"
   ]
  },
  {
   "cell_type": "markdown",
   "metadata": {},
   "source": [
    "# イメージをJSON formatに変換する\n",
    "#### ①json.dumpで書き出されるファイル　または　②print分で表示されるjson　をWML UIの\"TEST\"タブの \"Enter input data\" フィールドにコピペ"
   ]
  },
  {
   "cell_type": "code",
   "execution_count": 6,
   "metadata": {},
   "outputs": [
    {
     "name": "stdout",
     "output_type": "stream",
     "text": [
      "{\"values\": [[[[0.0], [0.0], [0.0], [0.0], [0.0], [0.0], [0.0], [0.0], [0.0], [0.0], [0.0], [0.0], [0.0], [0.0], [0.0], [0.0], [0.0], [0.0], [0.0], [0.0], [0.0], [0.0], [0.0], [0.0], [0.0], [0.0], [0.0], [0.0]], [[0.0], [0.0], [0.0], [0.0], [0.0], [0.0], [0.0], [0.0], [0.0], [0.0], [0.0], [0.0], [0.0], [0.0], [0.0], [0.0], [0.0], [0.0], [0.0], [0.0], [0.0], [0.0], [0.0], [0.0], [0.0], [0.0], [0.0], [0.0]], [[0.0], [0.0], [0.0], [0.0], [0.0], [0.0], [0.0], [0.0], [0.0], [0.0], [0.0], [0.0], [0.0], [0.0], [0.0], [0.0], [0.0], [0.0], [0.0], [0.0], [0.0], [0.0], [0.0], [0.0], [0.0], [0.0], [0.0], [0.0]], [[0.0], [0.0], [0.0], [0.0], [0.0], [0.0], [0.0], [0.0], [0.0], [0.0], [116.0], [125.0], [171.0], [255.0], [255.0], [150.0], [93.0], [0.0], [0.0], [0.0], [0.0], [0.0], [0.0], [0.0], [0.0], [0.0], [0.0], [0.0]], [[0.0], [0.0], [0.0], [0.0], [0.0], [0.0], [0.0], [0.0], [0.0], [169.0], [253.0], [253.0], [253.0], [253.0], [253.0], [253.0], [218.0], [30.0], [0.0], [0.0], [0.0], [0.0], [0.0], [0.0], [0.0], [0.0], [0.0], [0.0]], [[0.0], [0.0], [0.0], [0.0], [0.0], [0.0], [0.0], [0.0], [169.0], [253.0], [253.0], [253.0], [213.0], [142.0], [176.0], [253.0], [253.0], [122.0], [0.0], [0.0], [0.0], [0.0], [0.0], [0.0], [0.0], [0.0], [0.0], [0.0]], [[0.0], [0.0], [0.0], [0.0], [0.0], [0.0], [0.0], [52.0], [250.0], [253.0], [210.0], [32.0], [12.0], [0.0], [6.0], [206.0], [253.0], [140.0], [0.0], [0.0], [0.0], [0.0], [0.0], [0.0], [0.0], [0.0], [0.0], [0.0]], [[0.0], [0.0], [0.0], [0.0], [0.0], [0.0], [0.0], [77.0], [251.0], [210.0], [25.0], [0.0], [0.0], [0.0], [122.0], [248.0], [253.0], [65.0], [0.0], [0.0], [0.0], [0.0], [0.0], [0.0], [0.0], [0.0], [0.0], [0.0]], [[0.0], [0.0], [0.0], [0.0], [0.0], [0.0], [0.0], [0.0], [31.0], [18.0], [0.0], [0.0], [0.0], [0.0], [209.0], [253.0], [253.0], [65.0], [0.0], [0.0], [0.0], [0.0], [0.0], [0.0], [0.0], [0.0], [0.0], [0.0]], [[0.0], [0.0], [0.0], [0.0], [0.0], [0.0], [0.0], [0.0], [0.0], [0.0], [0.0], [0.0], [0.0], [117.0], [247.0], [253.0], [198.0], [10.0], [0.0], [0.0], [0.0], [0.0], [0.0], [0.0], [0.0], [0.0], [0.0], [0.0]], [[0.0], [0.0], [0.0], [0.0], [0.0], [0.0], [0.0], [0.0], [0.0], [0.0], [0.0], [0.0], [76.0], [247.0], [253.0], [231.0], [63.0], [0.0], [0.0], [0.0], [0.0], [0.0], [0.0], [0.0], [0.0], [0.0], [0.0], [0.0]], [[0.0], [0.0], [0.0], [0.0], [0.0], [0.0], [0.0], [0.0], [0.0], [0.0], [0.0], [0.0], [128.0], [253.0], [253.0], [144.0], [0.0], [0.0], [0.0], [0.0], [0.0], [0.0], [0.0], [0.0], [0.0], [0.0], [0.0], [0.0]], [[0.0], [0.0], [0.0], [0.0], [0.0], [0.0], [0.0], [0.0], [0.0], [0.0], [0.0], [176.0], [246.0], [253.0], [159.0], [12.0], [0.0], [0.0], [0.0], [0.0], [0.0], [0.0], [0.0], [0.0], [0.0], [0.0], [0.0], [0.0]], [[0.0], [0.0], [0.0], [0.0], [0.0], [0.0], [0.0], [0.0], [0.0], [0.0], [25.0], [234.0], [253.0], [233.0], [35.0], [0.0], [0.0], [0.0], [0.0], [0.0], [0.0], [0.0], [0.0], [0.0], [0.0], [0.0], [0.0], [0.0]], [[0.0], [0.0], [0.0], [0.0], [0.0], [0.0], [0.0], [0.0], [0.0], [0.0], [198.0], [253.0], [253.0], [141.0], [0.0], [0.0], [0.0], [0.0], [0.0], [0.0], [0.0], [0.0], [0.0], [0.0], [0.0], [0.0], [0.0], [0.0]], [[0.0], [0.0], [0.0], [0.0], [0.0], [0.0], [0.0], [0.0], [0.0], [78.0], [248.0], [253.0], [189.0], [12.0], [0.0], [0.0], [0.0], [0.0], [0.0], [0.0], [0.0], [0.0], [0.0], [0.0], [0.0], [0.0], [0.0], [0.0]], [[0.0], [0.0], [0.0], [0.0], [0.0], [0.0], [0.0], [0.0], [19.0], [200.0], [253.0], [253.0], [141.0], [0.0], [0.0], [0.0], [0.0], [0.0], [0.0], [0.0], [0.0], [0.0], [0.0], [0.0], [0.0], [0.0], [0.0], [0.0]], [[0.0], [0.0], [0.0], [0.0], [0.0], [0.0], [0.0], [0.0], [134.0], [253.0], [253.0], [173.0], [12.0], [0.0], [0.0], [0.0], [0.0], [0.0], [0.0], [0.0], [0.0], [0.0], [0.0], [0.0], [0.0], [0.0], [0.0], [0.0]], [[0.0], [0.0], [0.0], [0.0], [0.0], [0.0], [0.0], [0.0], [248.0], [253.0], [253.0], [25.0], [0.0], [0.0], [0.0], [0.0], [0.0], [0.0], [0.0], [0.0], [0.0], [0.0], [0.0], [0.0], [0.0], [0.0], [0.0], [0.0]], [[0.0], [0.0], [0.0], [0.0], [0.0], [0.0], [0.0], [0.0], [248.0], [253.0], [253.0], [43.0], [20.0], [20.0], [20.0], [20.0], [5.0], [0.0], [5.0], [20.0], [20.0], [37.0], [150.0], [150.0], [150.0], [147.0], [10.0], [0.0]], [[0.0], [0.0], [0.0], [0.0], [0.0], [0.0], [0.0], [0.0], [248.0], [253.0], [253.0], [253.0], [253.0], [253.0], [253.0], [253.0], [168.0], [143.0], [166.0], [253.0], [253.0], [253.0], [253.0], [253.0], [253.0], [253.0], [123.0], [0.0]], [[0.0], [0.0], [0.0], [0.0], [0.0], [0.0], [0.0], [0.0], [174.0], [253.0], [253.0], [253.0], [253.0], [253.0], [253.0], [253.0], [253.0], [253.0], [253.0], [253.0], [249.0], [247.0], [247.0], [169.0], [117.0], [117.0], [57.0], [0.0]], [[0.0], [0.0], [0.0], [0.0], [0.0], [0.0], [0.0], [0.0], [0.0], [118.0], [123.0], [123.0], [123.0], [166.0], [253.0], [253.0], [253.0], [155.0], [123.0], [123.0], [41.0], [0.0], [0.0], [0.0], [0.0], [0.0], [0.0], [0.0]], [[0.0], [0.0], [0.0], [0.0], [0.0], [0.0], [0.0], [0.0], [0.0], [0.0], [0.0], [0.0], [0.0], [0.0], [0.0], [0.0], [0.0], [0.0], [0.0], [0.0], [0.0], [0.0], [0.0], [0.0], [0.0], [0.0], [0.0], [0.0]], [[0.0], [0.0], [0.0], [0.0], [0.0], [0.0], [0.0], [0.0], [0.0], [0.0], [0.0], [0.0], [0.0], [0.0], [0.0], [0.0], [0.0], [0.0], [0.0], [0.0], [0.0], [0.0], [0.0], [0.0], [0.0], [0.0], [0.0], [0.0]], [[0.0], [0.0], [0.0], [0.0], [0.0], [0.0], [0.0], [0.0], [0.0], [0.0], [0.0], [0.0], [0.0], [0.0], [0.0], [0.0], [0.0], [0.0], [0.0], [0.0], [0.0], [0.0], [0.0], [0.0], [0.0], [0.0], [0.0], [0.0]], [[0.0], [0.0], [0.0], [0.0], [0.0], [0.0], [0.0], [0.0], [0.0], [0.0], [0.0], [0.0], [0.0], [0.0], [0.0], [0.0], [0.0], [0.0], [0.0], [0.0], [0.0], [0.0], [0.0], [0.0], [0.0], [0.0], [0.0], [0.0]], [[0.0], [0.0], [0.0], [0.0], [0.0], [0.0], [0.0], [0.0], [0.0], [0.0], [0.0], [0.0], [0.0], [0.0], [0.0], [0.0], [0.0], [0.0], [0.0], [0.0], [0.0], [0.0], [0.0], [0.0], [0.0], [0.0], [0.0], [0.0]]]]}\n"
     ]
    }
   ],
   "source": [
    "score_payload_data = X_test.reshape(X_test.shape[0], X_test.shape[1], X_test.shape[2], 1)\n",
    "#### 2018/08 MNISTサンプルが/255の正規化を行わなくなったので、削除\n",
    "####score_payload_data = score_payload_data.astype(\"float32\")/255\n",
    "score_payload_data = score_payload_data.astype(\"float32\")\n",
    "score_payload_data = score_payload_data[N].tolist() ## Here we are choosing the Nth image in the list to predict\n",
    "scoring_payload = {\"values\": [score_payload_data]}\n",
    "\n",
    "# save to file\n",
    "with open('wml-input.json', 'w') as f:\n",
    "    json.dump(scoring_payload,f)\n",
    "# or print it directly    which ever will work.\n",
    "print(json.dumps(scoring_payload))    "
   ]
  },
  {
   "cell_type": "markdown",
   "metadata": {},
   "source": [
    "# UIではなくAPIで WML Scoring サービスを起動する場合\n",
    "######  \"Implementation\" tab の\"Code Snippets\" をコピペしてください。\"credentials\" や \"requests.post\" URL は各人で異なります"
   ]
  },
  {
   "cell_type": "code",
   "execution_count": 7,
   "metadata": {},
   "outputs": [
    {
     "name": "stdout",
     "output_type": "stream",
     "text": [
      "Scoring response\n",
      "{'fields': ['prediction'], 'values': [[2.3701739237935726e-08, 2.054115633143283e-08, 0.9999855756759644, 1.8980050170425145e-11, 6.419850748554633e-15, 1.2609378602021493e-12, 1.436584807379404e-05, 2.949664852998768e-17, 2.7069216201880408e-08, 1.0510992778738591e-14]]}\n"
     ]
    }
   ],
   "source": [
    "#-------------コピペ開始\n",
    "import urllib3, requests, json\n",
    "\n",
    "# retrieve your wml_service_credentials_username, wml_service_credentials_password, and wml_service_credentials_url from the\n",
    "# Service credentials associated with your IBM Cloud Watson Machine Learning Service instance\n",
    "\n",
    "wml_credentials={\n",
    "\"url\": \"https://ibm-watson-ml.mybluemix.net\",\n",
    "\"username\": \"b5eb6ab8-6a0d-4b35-9db2-7a0b682f968b\",\n",
    "\"password\": \"88afb999-51ea-4253-a27e-8e68abb5fef7\"\n",
    "}\n",
    "\n",
    "headers = urllib3.util.make_headers(basic_auth='{username}:{password}'.format(username=wml_credentials['username'], password=wml_credentials['password']))\n",
    "url = '{}/v3/identity/token'.format(wml_credentials['url'])\n",
    "response = requests.get(url, headers=headers)\n",
    "mltoken = json.loads(response.text).get('token')\n",
    "\n",
    "header = {'Content-Type': 'application/json', 'Authorization': 'Bearer ' + mltoken}\n",
    "\n",
    "# NOTE: manually define and pass the array(s) of values to be scored in the next line\n",
    "#payload_scoring = {\"fields\": [array_of_feature_columns], \"values\": [array_of_values_to_be_scored, another_array_of_values_to_be_scored]}\n",
    "payload_scoring = scoring_payload\n",
    "response_scoring = requests.post('https://us-south.ml.cloud.ibm.com/v3/wml_instances/66d16781-fb49-4dd3-a485-9fd0a4285f9f/deployments/f901723a-afe7-4939-b648-637310893fe2/online', json=payload_scoring, headers=header)\n",
    "print(\"Scoring response\")\n",
    "print(json.loads(response_scoring.text))\n",
    "\n",
    "#-------------コピペ終了\n",
    "dic1 = json.loads(response_scoring.text)\n",
    "list1 = dic1.get('values')[0]"
   ]
  },
  {
   "cell_type": "markdown",
   "metadata": {},
   "source": [
    "# 判定結果のプリント( 結果と確信度 )"
   ]
  },
  {
   "cell_type": "code",
   "execution_count": 8,
   "metadata": {},
   "outputs": [
    {
     "name": "stdout",
     "output_type": "stream",
     "text": [
      "number              confidence\n"
     ]
    },
    {
     "data": {
      "text/plain": [
       "['0      ==>  2.3701739237935726e-08',\n",
       " '1      ==>  2.054115633143283e-08',\n",
       " '2      ==>  0.9999855756759644',\n",
       " '3      ==>  1.8980050170425145e-11',\n",
       " '4      ==>  6.419850748554633e-15',\n",
       " '5      ==>  1.2609378602021493e-12',\n",
       " '6      ==>  1.436584807379404e-05',\n",
       " '7      ==>  2.949664852998768e-17',\n",
       " '8      ==>  2.7069216201880408e-08',\n",
       " '9      ==>  1.0510992778738591e-14']"
      ]
     },
     "execution_count": 8,
     "metadata": {},
     "output_type": "execute_result"
    }
   ],
   "source": [
    "print(\"number              confidence\")\n",
    "[\"{0}      ==>  {1}\".format(i , v) for i, v in enumerate(list1)]"
   ]
  },
  {
   "cell_type": "code",
   "execution_count": 9,
   "metadata": {},
   "outputs": [
    {
     "data": {
      "text/markdown": [
       "# Watson says: the image is 2.      confidence:(0.9999855756759644)"
      ],
      "text/plain": [
       "<IPython.core.display.Markdown object>"
      ]
     },
     "metadata": {},
     "output_type": "display_data"
    }
   ],
   "source": [
    "from IPython.display import Markdown, display\n",
    "def printmd(string):\n",
    "    display(Markdown(string))\n",
    "printmd(f\"# Watson says: the image is {list1.index(max(list1))}.      confidence:({max(list1)})\") # from Python 3.6 - f\"xxx{hoge}\""
   ]
  },
  {
   "cell_type": "code",
   "execution_count": null,
   "metadata": {},
   "outputs": [],
   "source": []
  }
 ],
 "metadata": {
  "kernelspec": {
   "display_name": "Python 3",
   "language": "python",
   "name": "python3"
  },
  "language_info": {
   "codemirror_mode": {
    "name": "ipython",
    "version": 3
   },
   "file_extension": ".py",
   "mimetype": "text/x-python",
   "name": "python",
   "nbconvert_exporter": "python",
   "pygments_lexer": "ipython3",
   "version": "3.6.4"
  }
 },
 "nbformat": 4,
 "nbformat_minor": 2
}
